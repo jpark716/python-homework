{
 "cells": [
  {
   "cell_type": "code",
   "execution_count": 5,
   "id": "9eb79fc8-7507-453f-91cc-579145fd917d",
   "metadata": {},
   "outputs": [],
   "source": [
    "#import libraries\n",
    "import pandas as pd\n",
    "from pathlib import Path\n"
   ]
  },
  {
   "cell_type": "code",
   "execution_count": 7,
   "id": "c2a40f6b-eb1b-4c6b-bda3-d571c494da9c",
   "metadata": {},
   "outputs": [
    {
     "data": {
      "text/html": [
       "<div>\n",
       "<style scoped>\n",
       "    .dataframe tbody tr th:only-of-type {\n",
       "        vertical-align: middle;\n",
       "    }\n",
       "\n",
       "    .dataframe tbody tr th {\n",
       "        vertical-align: top;\n",
       "    }\n",
       "\n",
       "    .dataframe thead th {\n",
       "        text-align: right;\n",
       "    }\n",
       "</style>\n",
       "<table border=\"1\" class=\"dataframe\">\n",
       "  <thead>\n",
       "    <tr style=\"text-align: right;\">\n",
       "      <th></th>\n",
       "      <th>Date</th>\n",
       "      <th>Profit/Losses</th>\n",
       "    </tr>\n",
       "  </thead>\n",
       "  <tbody>\n",
       "    <tr>\n",
       "      <th>0</th>\n",
       "      <td>Jan-2010</td>\n",
       "      <td>867884</td>\n",
       "    </tr>\n",
       "    <tr>\n",
       "      <th>1</th>\n",
       "      <td>Feb-2010</td>\n",
       "      <td>984655</td>\n",
       "    </tr>\n",
       "    <tr>\n",
       "      <th>2</th>\n",
       "      <td>Mar-2010</td>\n",
       "      <td>322013</td>\n",
       "    </tr>\n",
       "    <tr>\n",
       "      <th>3</th>\n",
       "      <td>Apr-2010</td>\n",
       "      <td>-69417</td>\n",
       "    </tr>\n",
       "    <tr>\n",
       "      <th>4</th>\n",
       "      <td>May-2010</td>\n",
       "      <td>310503</td>\n",
       "    </tr>\n",
       "  </tbody>\n",
       "</table>\n",
       "</div>"
      ],
      "text/plain": [
       "       Date  Profit/Losses\n",
       "0  Jan-2010         867884\n",
       "1  Feb-2010         984655\n",
       "2  Mar-2010         322013\n",
       "3  Apr-2010         -69417\n",
       "4  May-2010         310503"
      ]
     },
     "execution_count": 7,
     "metadata": {},
     "output_type": "execute_result"
    }
   ],
   "source": [
    "#import csv file and define it\n",
    "\n",
    "file_path = Path(\"../Resources/budget_data.csv\")\n",
    "budget_data = pd.read_csv(file_path)\n",
    "budget_data.head()"
   ]
  },
  {
   "cell_type": "code",
   "execution_count": 8,
   "id": "b4ba06dc-9f80-4f8d-bf0d-54d17bac9c8f",
   "metadata": {},
   "outputs": [],
   "source": [
    "#create a dictionary with the dates\n",
    "dates = budget_data['Date']\n",
    "PnL = budget_data['Profit/Losses']\n",
    "total_info = dict(zip(dates, PnL))"
   ]
  },
  {
   "cell_type": "code",
   "execution_count": 9,
   "id": "d838f333-6648-47c1-a41a-2dc5cd7dff5c",
   "metadata": {},
   "outputs": [],
   "source": [
    "#define variables\n",
    "num_months=0\n",
    "net_total = 0\n",
    "average = 0\n",
    "greatest_increase = 0\n",
    "greatest_decrease = 0\n",
    "max_profit_time = 0\n",
    "max_loss_time = 0"
   ]
  },
  {
   "cell_type": "code",
   "execution_count": 10,
   "id": "c3fd9506-afb1-44e6-bcb5-1ae571ff7cca",
   "metadata": {},
   "outputs": [],
   "source": [
    "#set values for variables\n",
    "num_months = budget_data['Date'].count()\n",
    "net_total = budget_data['Profit/Losses'].sum()\n",
    "average = budget_data['Profit/Losses'].mean()\n",
    "greatest_increase = budget_data['Profit/Losses'].max()\n",
    "greatest_decrease = budget_data['Profit/Losses'].min()"
   ]
  },
  {
   "cell_type": "code",
   "execution_count": 11,
   "id": "a9233b56-cd27-4a62-95ed-ddce949f8048",
   "metadata": {},
   "outputs": [
    {
     "name": "stdout",
     "output_type": "stream",
     "text": [
      "                Date  Profit/Losses\n",
      "Date                               \n",
      "2010-01-01  Jan-2010         867884\n",
      "2010-02-01  Feb-2010         984655\n",
      "2010-03-01  Mar-2010         322013\n",
      "2010-04-01  Apr-2010         -69417\n",
      "2010-05-01  May-2010         310503\n"
     ]
    }
   ],
   "source": [
    "# Set the index as the 'Date' column\n",
    "budget_data.set_index(pd.to_datetime(budget_data['Date'], infer_datetime_format=True), inplace=True)\n",
    "print(budget_data.head())"
   ]
  },
  {
   "cell_type": "code",
   "execution_count": 12,
   "id": "20aa6c5b-8c68-4961-8eb3-ed8f335af283",
   "metadata": {},
   "outputs": [
    {
     "name": "stdout",
     "output_type": "stream",
     "text": [
      "Series([], Name: Date, dtype: object)\n"
     ]
    }
   ],
   "source": [
    "#retrieve the 'Profit/Losses' column\n",
    "new_budget_data = budget_data.iloc[budget_data['Profit/Losses'].max():,0]\n",
    "print(new_budget_data.head())"
   ]
  },
  {
   "cell_type": "code",
   "execution_count": 13,
   "id": "a34b629f-2319-4574-9f69-ff2c7f25389b",
   "metadata": {},
   "outputs": [],
   "source": [
    "#Retrieve the highest and lowest values from the 'Profit/Losses' columnn and assign to variables.\n",
    "max_profit_time = budget_data['Profit/Losses'].idxmax()\n",
    "max_loss_time = budget_data['Profit/Losses'].idxmin()"
   ]
  },
  {
   "cell_type": "code",
   "execution_count": 33,
   "id": "1c82fa68-6c10-41c5-9f69-5b5960260010",
   "metadata": {},
   "outputs": [
    {
     "name": "stdout",
     "output_type": "stream",
     "text": [
      "\n",
      "\n",
      "\n",
      "\n",
      "\n",
      "\n",
      "\n",
      "\n",
      "\n",
      "\n"
     ]
    }
   ],
   "source": [
    "#Display total months, net total, average change, greatest increase, and greatest decrease\n",
    "# Set output file name\n",
    "output_path = 'output.txt'\n",
    "# Open the output path as a file object\n",
    "with open(output_path, 'w') as file:\n",
    "    file.write(f\"Financial Analysis\\m\")\n",
    "    file.write(f\"----------------------------------------------------------------------\\n\")\n",
    "    file.write(f'Total Months :' + str(num_months) + '\\n')\n",
    "    file.write(f'Total: $' + str(net_total) + '\\n')\n",
    "    file.write(f'Average Change : $'+ (str(round(average))) + '\\n')\n",
    "    file.write(f'Greatest Increase in Profits: '+ str(greatest_increase)+' on '+str(max_profit_time) + '\\n')\n",
    "    file.write(f'The greatest decrease in losses were '+ str(greatest_decrease)+' on '+str(max_loss_time))"
   ]
  },
  {
   "cell_type": "code",
   "execution_count": 15,
   "id": "2ba688fb-6254-4ad0-918e-85cb3fdcf05f",
   "metadata": {},
   "outputs": [],
   "source": []
  },
  {
   "cell_type": "code",
   "execution_count": null,
   "id": "26e44464-afe8-4a45-8e0e-bf662caf0ce8",
   "metadata": {},
   "outputs": [],
   "source": []
  },
  {
   "cell_type": "code",
   "execution_count": null,
   "id": "fa9f444b-8ae9-4c65-854a-e7ad2d3ec686",
   "metadata": {},
   "outputs": [],
   "source": []
  }
 ],
 "metadata": {
  "kernelspec": {
   "display_name": "Python 3 (ipykernel)",
   "language": "python",
   "name": "python3"
  },
  "language_info": {
   "codemirror_mode": {
    "name": "ipython",
    "version": 3
   },
   "file_extension": ".py",
   "mimetype": "text/x-python",
   "name": "python",
   "nbconvert_exporter": "python",
   "pygments_lexer": "ipython3",
   "version": "3.10.11"
  }
 },
 "nbformat": 4,
 "nbformat_minor": 5
}
